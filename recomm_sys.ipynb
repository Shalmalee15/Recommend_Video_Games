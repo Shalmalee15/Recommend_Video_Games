{
 "cells": [
  {
   "cell_type": "code",
   "execution_count": null,
   "id": "60d2f0a8-9b62-4589-9ce4-4a56c0e46f25",
   "metadata": {},
   "outputs": [],
   "source": [
    "import pandas as pd\n",
    "import matplotlib.pyplot as plt\n",
    "import seaborn as sns"
   ]
  },
  {
   "cell_type": "code",
   "execution_count": null,
   "id": "d6a50ef6-ea40-460a-8486-f02a7f4aec6b",
   "metadata": {},
   "outputs": [],
   "source": [
    "df = pd.read_csv(\"steam-200k.csv\")"
   ]
  },
  {
   "cell_type": "code",
   "execution_count": null,
   "id": "e50bf7ff-fa81-4246-a676-1ea5566c706a",
   "metadata": {},
   "outputs": [],
   "source": [
    "df.head()"
   ]
  },
  {
   "cell_type": "code",
   "execution_count": null,
   "id": "ba9748b4-0375-491f-a95e-b4adc26837cf",
   "metadata": {},
   "outputs": [],
   "source": [
    "df.isnull().sum().sort_values()"
   ]
  }
 ],
 "metadata": {
  "kernelspec": {
   "display_name": "Python 3",
   "language": "python",
   "name": "python3"
  },
  "language_info": {
   "codemirror_mode": {
    "name": "ipython",
    "version": 3
   },
   "file_extension": ".py",
   "mimetype": "text/x-python",
   "name": "python",
   "nbconvert_exporter": "python",
   "pygments_lexer": "ipython3",
   "version": "3.8.8"
  }
 },
 "nbformat": 4,
 "nbformat_minor": 5
}
