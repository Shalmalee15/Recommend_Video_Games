{
 "cells": [
  {
   "cell_type": "code",
   "execution_count": null,
   "id": "60d2f0a8-9b62-4589-9ce4-4a56c0e46f25",
   "metadata": {},
   "outputs": [],
   "source": [
    "import pandas as pd\n",
    "import matplotlib.pyplot as plt\n",
    "import seaborn as sns"
   ]
  },
  {
   "cell_type": "code",
   "execution_count": null,
   "id": "d6a50ef6-ea40-460a-8486-f02a7f4aec6b",
   "metadata": {},
   "outputs": [],
   "source": [
    "df = pd.read_csv(\"steam-200k.csv\")"
   ]
  },
  {
   "cell_type": "code",
   "execution_count": null,
   "id": "e50bf7ff-fa81-4246-a676-1ea5566c706a",
   "metadata": {},
   "outputs": [],
   "source": [
    "df.head()"
   ]
  },
  {
   "cell_type": "code",
   "execution_count": null,
   "id": "ba9748b4-0375-491f-a95e-b4adc26837cf",
   "metadata": {},
   "outputs": [],
   "source": [
    "df.isnull().sum().sort_values()"
   ]
  },
  {
   "cell_type": "code",
   "execution_count": null,
   "id": "33af10aa-abbe-4e89-b14a-fd9e58e14a78",
   "metadata": {},
   "outputs": [],
   "source": [
    "df.info()"
   ]
  },
  {
   "cell_type": "code",
   "execution_count": null,
   "id": "485435d6-be1e-4d56-bd79-27cccc3b4f26",
   "metadata": {},
   "outputs": [],
   "source": [
    "df.describe()"
   ]
  },
  {
   "cell_type": "code",
   "execution_count": null,
   "id": "62183779-68c9-4e23-8cd8-5465668ee0b1",
   "metadata": {},
   "outputs": [],
   "source": [
    "df.columns"
   ]
  },
  {
   "cell_type": "code",
   "execution_count": null,
   "id": "e381e6c9-56cd-4c9b-91a3-6d47e9046002",
   "metadata": {},
   "outputs": [],
   "source": [
    "## We need to rename columns so that they make sense: \n",
    "\n",
    "df.rename(columns={'151603712':\"User_ID\", 'The Elder Scrolls V Skyrim':\"Game\", 'purchase':\"Action\",\n",
    "                   '1.0':\"No_of_Hours\", '0':\"Other\"}, inplace=True)"
   ]
  },
  {
   "cell_type": "code",
   "execution_count": null,
   "id": "8063ba5a-3b09-4df5-a3c2-2b024a03eb3b",
   "metadata": {},
   "outputs": [],
   "source": [
    "df.head()"
   ]
  },
  {
   "cell_type": "code",
   "execution_count": null,
   "id": "1494a80e-a661-4db6-847c-54603734e1ca",
   "metadata": {},
   "outputs": [],
   "source": [
    "df.loc[df['Action'] == 'play']\n",
    "df.head()"
   ]
  },
  {
   "cell_type": "code",
   "execution_count": null,
   "id": "c2bf4cd0-57c7-4a12-9799-380015edd9ce",
   "metadata": {},
   "outputs": [],
   "source": [
    "df.loc[df['Action'] == 'play'].describe()\n"
   ]
  },
  {
   "cell_type": "code",
   "execution_count": null,
   "id": "72a0f2d2-7608-4aa1-8864-cff295c93a4e",
   "metadata": {},
   "outputs": [],
   "source": [
    "df.head()"
   ]
  },
  {
   "cell_type": "code",
   "execution_count": null,
   "id": "e96080b5-9cc6-4039-b9cb-2602c454d1b6",
   "metadata": {},
   "outputs": [],
   "source": [
    "df.groupby([\"User_ID\",\"Action\"]).count()"
   ]
  },
  {
   "cell_type": "code",
   "execution_count": null,
   "id": "8da63cbc-2ebb-4c80-8aed-ef2163fd1860",
   "metadata": {},
   "outputs": [],
   "source": [
    "values = df.groupby([\"User_ID\",\"Action\"]).size()"
   ]
  },
  {
   "cell_type": "code",
   "execution_count": null,
   "id": "091ca1dd-34a8-4500-bffb-9beffdd46820",
   "metadata": {},
   "outputs": [],
   "source": [
    "values.head()"
   ]
  },
  {
   "cell_type": "code",
   "execution_count": null,
   "id": "27567271-6f2d-4971-a88b-23cc5c3b00a1",
   "metadata": {},
   "outputs": [],
   "source": [
    "print(\"Number of games : {0}\".format(len(df.Game.unique())))\n",
    "print(\"Number of users : {0}\".format(len(df.User_ID.unique())))\n",
    "print(\"Number of total purchases : {0}\".format(len(df.loc[df['Action'] == 'purchase'])))\n",
    "print(\"Number of total plays infos : {0}\".format(len(df.loc[df['Action'] == 'play'])))"
   ]
  },
  {
   "cell_type": "code",
   "execution_count": null,
   "id": "e0b49fd7-da46-48be-b619-8cd3626d0413",
   "metadata": {},
   "outputs": [],
   "source": [
    "df.shape"
   ]
  },
  {
   "cell_type": "code",
   "execution_count": null,
   "id": "94a30f15-e2df-44bf-a598-89d69f7cff69",
   "metadata": {},
   "outputs": [],
   "source": [
    "df.drop_duplicates().sum()"
   ]
  },
  {
   "cell_type": "code",
   "execution_count": null,
   "id": "d6a9e8b2-f227-47d9-b794-72a8cc81d44a",
   "metadata": {},
   "outputs": [],
   "source": [
    "df.describe().astype(int)"
   ]
  },
  {
   "cell_type": "code",
   "execution_count": null,
   "id": "d1e6cb23-3cf4-4161-8e67-e2fa0fb3f27b",
   "metadata": {},
   "outputs": [],
   "source": [
    "df.nunique()"
   ]
  },
  {
   "cell_type": "code",
   "execution_count": null,
   "id": "2a3eb47f-8d13-4096-a4a4-fe9bae05075d",
   "metadata": {},
   "outputs": [],
   "source": [
    "df[\"Game\"].value_counts()"
   ]
  },
  {
   "cell_type": "code",
   "execution_count": null,
   "id": "b0b7fffe-9385-4863-8eca-5d7be3360771",
   "metadata": {},
   "outputs": [],
   "source": [
    "df['Action'].value_counts()"
   ]
  },
  {
   "cell_type": "code",
   "execution_count": null,
   "id": "60fdaa71-a15d-4fb2-ab7e-4d225774b7dc",
   "metadata": {},
   "outputs": [],
   "source": [
    "df['Action'].value_counts().plot(kind ='pie',autopct = '%1.1f%%')"
   ]
  },
  {
   "cell_type": "code",
   "execution_count": null,
   "id": "6e9f25b4-75e6-457e-b131-ccb37bffc387",
   "metadata": {},
   "outputs": [],
   "source": [
    "for i in ['Action', 'No_of_Hours']:\n",
    "    plt.hist(df[i])\n",
    "    plt.show()"
   ]
  },
  {
   "cell_type": "code",
   "execution_count": null,
   "id": "56a8591f-5a66-4b99-bdf5-5db1b356072e",
   "metadata": {},
   "outputs": [],
   "source": [
    "# Plot top 15 games: \n",
    "\n",
    "print(\"Top 15 games:\")\n",
    "\n",
    "df[\"Game\"].value_counts().head(15).plot(kind= 'bar', figsize=(15, 5))"
   ]
  },
  {
   "cell_type": "code",
   "execution_count": null,
   "id": "68c5b693-82cc-4b02-be9b-85cf48457b92",
   "metadata": {},
   "outputs": [],
   "source": [
    "sns.boxplot(x = 'Action',y ='No_of_Hours',data = df,palette='rainbow')\n"
   ]
  },
  {
   "cell_type": "code",
   "execution_count": null,
   "id": "1b9f8266-0998-43bd-8ade-d44fb4c2dd18",
   "metadata": {},
   "outputs": [],
   "source": [
    "# We can create a variable which tells us a rating for a game based on user id who has spent 2 or more hours \n",
    "# Playing a game: \n",
    "\n",
    "df= df[(df['No_of_Hours']>=2) & (df['Action']=='play')]"
   ]
  },
  {
   "cell_type": "code",
   "execution_count": null,
   "id": "5fcd6f4d-c628-49ef-b2f3-2f1255e26a80",
   "metadata": {},
   "outputs": [],
   "source": [
    "print(df.nunique)"
   ]
  }
 ],
 "metadata": {
  "kernelspec": {
   "display_name": "Python 3",
   "language": "python",
   "name": "python3"
  },
  "language_info": {
   "codemirror_mode": {
    "name": "ipython",
    "version": 3
   },
   "file_extension": ".py",
   "mimetype": "text/x-python",
   "name": "python",
   "nbconvert_exporter": "python",
   "pygments_lexer": "ipython3",
   "version": "3.8.8"
  }
 },
 "nbformat": 4,
 "nbformat_minor": 5
}
