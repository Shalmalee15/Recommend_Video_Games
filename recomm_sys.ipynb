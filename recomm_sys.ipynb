{
 "cells": [
  {
   "cell_type": "code",
   "execution_count": 2,
   "id": "60d2f0a8-9b62-4589-9ce4-4a56c0e46f25",
   "metadata": {},
   "outputs": [],
   "source": [
    "# Import the required libraries\n",
    "import pandas as pd\n",
    "import matplotlib.pyplot as plt\n",
    "import seaborn as sns\n",
    "import numpy as np"
   ]
  },
  {
   "cell_type": "code",
   "execution_count": null,
   "id": "d6a50ef6-ea40-460a-8486-f02a7f4aec6b",
   "metadata": {},
   "outputs": [],
   "source": [
    "df = pd.read_csv(\"steam-200k.csv\")"
   ]
  },
  {
   "cell_type": "code",
   "execution_count": null,
   "id": "e50bf7ff-fa81-4246-a676-1ea5566c706a",
   "metadata": {},
   "outputs": [],
   "source": [
    "df.head()"
   ]
  },
  {
   "cell_type": "code",
   "execution_count": null,
   "id": "ba9748b4-0375-491f-a95e-b4adc26837cf",
   "metadata": {},
   "outputs": [],
   "source": [
    "df.isnull().sum().sort_values()"
   ]
  },
  {
   "cell_type": "code",
   "execution_count": null,
   "id": "33af10aa-abbe-4e89-b14a-fd9e58e14a78",
   "metadata": {},
   "outputs": [],
   "source": [
    "df.info()"
   ]
  },
  {
   "cell_type": "code",
   "execution_count": null,
   "id": "485435d6-be1e-4d56-bd79-27cccc3b4f26",
   "metadata": {},
   "outputs": [],
   "source": [
    "df.describe()"
   ]
  },
  {
   "cell_type": "code",
   "execution_count": null,
   "id": "62183779-68c9-4e23-8cd8-5465668ee0b1",
   "metadata": {},
   "outputs": [],
   "source": [
    "df.columns"
   ]
  },
  {
   "cell_type": "code",
   "execution_count": null,
   "id": "e381e6c9-56cd-4c9b-91a3-6d47e9046002",
   "metadata": {},
   "outputs": [],
   "source": [
    "## We need to rename columns so that they make sense: \n",
    "\n",
    "df.rename(columns={'151603712':\"User_ID\", 'The Elder Scrolls V Skyrim':\"Game\", 'purchase':\"Action\",\n",
    "                   '1.0':\"No_of_Hours\", '0':\"Other\"}, inplace=True)"
   ]
  },
  {
   "cell_type": "code",
   "execution_count": null,
   "id": "1494a80e-a661-4db6-847c-54603734e1ca",
   "metadata": {},
   "outputs": [],
   "source": [
    "df.loc[df['Action'] == 'play']\n",
    "df.head()"
   ]
  },
  {
   "cell_type": "code",
   "execution_count": null,
   "id": "c2bf4cd0-57c7-4a12-9799-380015edd9ce",
   "metadata": {},
   "outputs": [],
   "source": [
    "df.loc[df['Action'] == 'play'].describe()"
   ]
  },
  {
   "cell_type": "code",
   "execution_count": null,
   "id": "e96080b5-9cc6-4039-b9cb-2602c454d1b6",
   "metadata": {},
   "outputs": [],
   "source": [
    "df.groupby([\"User_ID\",\"Action\"]).count()"
   ]
  },
  {
   "cell_type": "code",
   "execution_count": null,
   "id": "8da63cbc-2ebb-4c80-8aed-ef2163fd1860",
   "metadata": {},
   "outputs": [],
   "source": [
    "values = df.groupby([\"User_ID\",\"Action\"]).size()"
   ]
  },
  {
   "cell_type": "code",
   "execution_count": null,
   "id": "091ca1dd-34a8-4500-bffb-9beffdd46820",
   "metadata": {},
   "outputs": [],
   "source": [
    "values.head()"
   ]
  },
  {
   "cell_type": "code",
   "execution_count": null,
   "id": "27567271-6f2d-4971-a88b-23cc5c3b00a1",
   "metadata": {},
   "outputs": [],
   "source": [
    "print(\"Number of games : {0}\".format(len(df.Game.unique())))\n",
    "print(\"Number of users : {0}\".format(len(df.User_ID.unique())))\n",
    "print(\"Number of total purchases : {0}\".format(len(df.loc[df['Action'] == 'purchase'])))\n",
    "print(\"Number of total plays infos : {0}\".format(len(df.loc[df['Action'] == 'play'])))"
   ]
  },
  {
   "cell_type": "code",
   "execution_count": null,
   "id": "e0b49fd7-da46-48be-b619-8cd3626d0413",
   "metadata": {},
   "outputs": [],
   "source": [
    "df.shape"
   ]
  },
  {
   "cell_type": "code",
   "execution_count": null,
   "id": "94a30f15-e2df-44bf-a598-89d69f7cff69",
   "metadata": {},
   "outputs": [],
   "source": [
    "df.drop_duplicates().sum()"
   ]
  },
  {
   "cell_type": "code",
   "execution_count": null,
   "id": "d6a9e8b2-f227-47d9-b794-72a8cc81d44a",
   "metadata": {},
   "outputs": [],
   "source": [
    "df.describe().astype(int)"
   ]
  },
  {
   "cell_type": "code",
   "execution_count": null,
   "id": "d1e6cb23-3cf4-4161-8e67-e2fa0fb3f27b",
   "metadata": {},
   "outputs": [],
   "source": [
    "df.nunique()"
   ]
  },
  {
   "cell_type": "code",
   "execution_count": null,
   "id": "2a3eb47f-8d13-4096-a4a4-fe9bae05075d",
   "metadata": {},
   "outputs": [],
   "source": [
    "df[\"Game\"].value_counts()"
   ]
  },
  {
   "cell_type": "code",
   "execution_count": null,
   "id": "b0b7fffe-9385-4863-8eca-5d7be3360771",
   "metadata": {},
   "outputs": [],
   "source": [
    "df['Action'].value_counts()"
   ]
  },
  {
   "cell_type": "code",
   "execution_count": null,
   "id": "60fdaa71-a15d-4fb2-ab7e-4d225774b7dc",
   "metadata": {},
   "outputs": [],
   "source": [
    "df['Action'].value_counts().plot(kind ='pie',autopct = '%1.1f%%')"
   ]
  },
  {
   "cell_type": "code",
   "execution_count": null,
   "id": "6e9f25b4-75e6-457e-b131-ccb37bffc387",
   "metadata": {},
   "outputs": [],
   "source": [
    "for i in ['Action', 'No_of_Hours']:\n",
    "    plt.hist(df[i])\n",
    "    plt.show()"
   ]
  },
  {
   "cell_type": "code",
   "execution_count": null,
   "id": "56a8591f-5a66-4b99-bdf5-5db1b356072e",
   "metadata": {},
   "outputs": [],
   "source": [
    "# Plot top 15 games: \n",
    "\n",
    "print(\"Top 15 games:\")\n",
    "\n",
    "df[\"Game\"].value_counts().head(15).plot(kind= 'bar', figsize=(15, 5))"
   ]
  },
  {
   "cell_type": "code",
   "execution_count": null,
   "id": "68c5b693-82cc-4b02-be9b-85cf48457b92",
   "metadata": {},
   "outputs": [],
   "source": [
    "sns.boxplot(x = 'Action',y ='No_of_Hours',data = df,palette='rainbow')"
   ]
  },
  {
   "cell_type": "code",
   "execution_count": null,
   "id": "1b9f8266-0998-43bd-8ade-d44fb4c2dd18",
   "metadata": {},
   "outputs": [],
   "source": [
    "# We can create a variable which tells us a rating for a game based on user id who has spent 2 or more hours \n",
    "# Playing a game: \n",
    "\n",
    "df= df[(df['No_of_Hours']>=2) & (df['Action']=='play')]"
   ]
  },
  {
   "cell_type": "code",
   "execution_count": null,
   "id": "5fcd6f4d-c628-49ef-b2f3-2f1255e26a80",
   "metadata": {},
   "outputs": [],
   "source": [
    "print(df.nunique)"
   ]
  },
  {
   "cell_type": "code",
   "execution_count": null,
   "id": "746d7c49-fd9a-434e-81e9-37e33c45d8d2",
   "metadata": {},
   "outputs": [],
   "source": [
    "df.groupby(by=\"Action\").count()"
   ]
  },
  {
   "cell_type": "code",
   "execution_count": null,
   "id": "53cf95c0-03f6-41b3-a714-ed5195d48a3c",
   "metadata": {},
   "outputs": [],
   "source": [
    "df.groupby(\"Game\").count()"
   ]
  },
  {
   "cell_type": "code",
   "execution_count": null,
   "id": "1e5fc513-ddc5-401f-9b18-034ee8368032",
   "metadata": {},
   "outputs": [],
   "source": [
    "df = df[df.groupby('Game').User_ID.transform(len)>=20]"
   ]
  },
  {
   "cell_type": "code",
   "execution_count": null,
   "id": "310b6912-7ac1-4239-878a-5e8cfb06ac47",
   "metadata": {},
   "outputs": [],
   "source": [
    "df['Game'].nunique()"
   ]
  },
  {
   "cell_type": "code",
   "execution_count": null,
   "id": "71fb1685-3dcd-49ce-894f-27b081d60f8c",
   "metadata": {},
   "outputs": [],
   "source": [
    "df[\"User_ID\"] = df[\"User_ID\"].astype(str)"
   ]
  },
  {
   "cell_type": "code",
   "execution_count": null,
   "id": "27bb31de-46ac-4232-bde7-5838b988c2b7",
   "metadata": {},
   "outputs": [],
   "source": [
    "df.dtypes"
   ]
  },
  {
   "cell_type": "code",
   "execution_count": null,
   "id": "ae1823b6-b073-4cf2-85cb-dd6b0c2b7b35",
   "metadata": {},
   "outputs": [],
   "source": [
    "average = df.groupby(['Game'],as_index = False).No_of_Hours.mean()\n",
    "print(average.min(), average.max())"
   ]
  },
  {
   "cell_type": "code",
   "execution_count": null,
   "id": "6393a829-f2b2-49f8-b15b-8661cc991ab4",
   "metadata": {},
   "outputs": [],
   "source": [
    "average[\"Avg_hourplayed\"] = average[\"No_of_Hours\"]"
   ]
  },
  {
   "cell_type": "code",
   "execution_count": null,
   "id": "efba5b21-6541-42aa-bbde-d941cb012ec7",
   "metadata": {},
   "outputs": [],
   "source": [
    "average.drop(columns=\"No_of_Hours\", inplace=True)"
   ]
  },
  {
   "cell_type": "code",
   "execution_count": null,
   "id": "92455bbd-17eb-49a2-ad2d-009decd6a76a",
   "metadata": {},
   "outputs": [],
   "source": [
    "average"
   ]
  },
  {
   "cell_type": "code",
   "execution_count": null,
   "id": "52321763-846d-43e8-bbdc-688866bc2d12",
   "metadata": {},
   "outputs": [],
   "source": [
    "df = df.merge(average, on=\"Game\")"
   ]
  },
  {
   "cell_type": "code",
   "execution_count": null,
   "id": "237465f7-ae58-4326-9e26-16624d796713",
   "metadata": {},
   "outputs": [],
   "source": [
    "condition = [\n",
    "    df['No_of_Hours']>= (0.8*df['Avg_hourplayed']),\n",
    "   (df['No_of_Hours']>=0.6*df['Avg_hourplayed'])&(df['No_of_Hours']<0.8*df['Avg_hourplayed']),\n",
    "   (df['No_of_Hours']>=0.4*df['Avg_hourplayed'])&(df['No_of_Hours']<0.6*df['Avg_hourplayed']),\n",
    "   (df['No_of_Hours']>=0.2*df['Avg_hourplayed'])&(df['No_of_Hours']<0.4*df['Avg_hourplayed']),\n",
    "    df['No_of_Hours']>=0\n",
    "    \n",
    "]\n",
    "values = [5,4,3,2,1]\n",
    "df['rating'] = np.select(condition,values)"
   ]
  },
  {
   "cell_type": "code",
   "execution_count": null,
   "id": "b6761cae-27d3-45d9-b55e-d0f9f549e9f5",
   "metadata": {},
   "outputs": [],
   "source": [
    "df.drop(columns = [ 'Action', 'No_of_Hours', 'Other'],inplace =True )"
   ]
  },
  {
   "cell_type": "code",
   "execution_count": null,
   "id": "033f740f-bb5d-404e-b603-3951d10c6225",
   "metadata": {},
   "outputs": [],
   "source": [
    "df.drop(columns=['Avg_hourplayed'],inplace=True)"
   ]
  },
  {
   "cell_type": "code",
   "execution_count": null,
   "id": "9c828c48-ebd5-431a-8c4b-465222dfae3e",
   "metadata": {},
   "outputs": [],
   "source": [
    "df.head()"
   ]
  }
 ],
 "metadata": {
  "kernelspec": {
   "display_name": "Python 3",
   "language": "python",
   "name": "python3"
  },
  "language_info": {
   "codemirror_mode": {
    "name": "ipython",
    "version": 3
   },
   "file_extension": ".py",
   "mimetype": "text/x-python",
   "name": "python",
   "nbconvert_exporter": "python",
   "pygments_lexer": "ipython3",
   "version": "3.8.8"
  }
 },
 "nbformat": 4,
 "nbformat_minor": 5
}
